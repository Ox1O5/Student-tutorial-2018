{
 "cells": [
  {
   "cell_type": "code",
   "execution_count": 12,
   "metadata": {},
   "outputs": [],
   "source": [
    "from datetime import datetime\n",
    "import math\n",
    "import time\n",
    "import tensorflow as tf"
   ]
  },
  {
   "cell_type": "code",
   "execution_count": 13,
   "metadata": {},
   "outputs": [],
   "source": [
    "def conv_op(input_op, name, kh, kw, n_out, dh, dw, p):\n",
    "    n_in = input_op.shape[-1]\n",
    "    \n",
    "    with tf.name_scope(name) as scope:\n",
    "        kernel = tf.get_variable(scope+\"w\", shape = [kh,kw,n_in,n_out], dtype=tf.float32,\n",
    "                                initializer=tf.contrib.layers.xavier_initializer_conv2d())\n",
    "        conv = tf.nn.conv2d(input_op, kernel, (1, dh, dw, 1), padding = 'SAME')\n",
    "        bias_init_val = tf.zeros(shape=[n_out],dtype=tf.float32)\n",
    "        biases = tf.Variable(bias_init_val, trainable=True, name='b')\n",
    "        z = tf.nn.bias_add(conv, biases)\n",
    "        activation = tf.nn.relu(z, name=scope)\n",
    "        p += [kernel, biases]\n",
    "        return activation\n",
    "    \n",
    "def fc_op(input_op, name, n_out, p):\n",
    "    n_in = input_op.shape[-1]\n",
    "    \n",
    "    with tf.name_scope(name) as scope:\n",
    "        kernel = tf.get_variable(scope+\"w\", shape = [n_in, n_out], dtype=tf.float32,\n",
    "                           initializer=tf.contrib.layers.xavier_initializer())\n",
    "        biases = tf.Variable(tf.constant(0.1, shape=[n_out], dtype=tf.float32), name='b')\n",
    "        activation = tf.nn.relu_layer(input_op, kernel, biases, name= scope)\n",
    "        p += [kernel, biases]\n",
    "        return activation\n",
    "    \n",
    "def mpool_op(input_op, name, kh, kw, dh ,dw):\n",
    "    return tf.nn.max_pool(input_op, ksize=[1, kh, kw, 1], strides=[1, dh, dw, 1], padding='SAME', name=name)"
   ]
  },
  {
   "cell_type": "code",
   "execution_count": 14,
   "metadata": {},
   "outputs": [],
   "source": [
    "def inference_op(input_op, keep_prob):\n",
    "    p = []\n",
    "    \n",
    "    conv1_1 = conv_op(input_op, name=\"conv1_1\", kh=3, kw=3, n_out=64, dh=1, dw=1, p=p)\n",
    "    conv1_2 = conv_op(conv1_1, name=\"conv1_2\", kh=3, kw=3, n_out=64, dh=1, dw=1, p=p)\n",
    "    pool1 = mpool_op(conv1_2, name='pool1', kh=2, kw=2, dh=2, dw=2)\n",
    "    \n",
    "    conv2_1 = conv_op(pool1, name=\"conv2_1\", kh=3, kw=3, n_out=128, dh=1, dw=1, p=p)\n",
    "    conv2_2 = conv_op(conv2_1, name=\"conv2_2\", kh=3, kw=3, n_out=128, dh=1, dw=1, p=p)\n",
    "    pool2 = mpool_op(conv2_2, name='pool2', kh=2, kw=2, dh=2, dw=2)\n",
    "    \n",
    "    conv3_1 = conv_op(pool2, name=\"conv3_1\", kh=3, kw=3, n_out=256, dh=1, dw=1, p=p)\n",
    "    conv3_2 = conv_op(conv3_1, name=\"conv3_2\", kh=3, kw=3, n_out=256, dh=1, dw=1, p=p)\n",
    "    conv3_3 = conv_op(conv3_2, name=\"conv3_3\", kh=3, kw=3, n_out=256, dh=1, dw=1, p=p)\n",
    "    pool3 = mpool_op(conv3_3, name='pool3', kh=2, kw=2, dh=2, dw=2)\n",
    "    \n",
    "    conv4_1 = conv_op(pool3, name=\"conv4_1\", kh=3, kw=3, n_out=512, dh=1, dw=1, p=p)\n",
    "    conv4_2 = conv_op(conv4_1, name=\"conv4_2\", kh=3, kw=3, n_out=512, dh=1, dw=1, p=p)\n",
    "    conv4_3 = conv_op(conv4_2, name=\"conv4_3\", kh=3, kw=3, n_out=512, dh=1, dw=1, p=p)\n",
    "    pool4 = mpool_op(conv4_3, name='pool4', kh=2, kw=2, dh=2, dw=2)\n",
    "    \n",
    "    conv5_1 = conv_op(pool4, name=\"conv5_1\", kh=3, kw=3, n_out=512, dh=1, dw=1, p=p)\n",
    "    conv5_2 = conv_op(conv5_1, name=\"conv5_2\", kh=3, kw=3, n_out=512, dh=1, dw=1, p=p)\n",
    "    conv5_3 = conv_op(conv5_2, name=\"conv5_3\", kh=3, kw=3, n_out=512, dh=1, dw=1, p=p)\n",
    "    pool5 = mpool_op(conv5_3, name='pool5', kh=2, kw=2, dh=2, dw=2)\n",
    "    \n",
    "    shp = pool5.shape\n",
    "    resh1 = tf.reshape(pool5, [-1, shp[1]*shp[2]*shp[3]], name=\"resh1\")\n",
    "    \n",
    "    fc6 = fc_op(resh1, name=\"fc6\", n_out=4096, p=p)\n",
    "    fc6_drop = tf.nn.dropout(fc6, keep_prob, name=\"fc6_drop\")\n",
    "    \n",
    "    fc7 = fc_op(fc6_drop, name=\"fc7\", n_out=4096, p=p)\n",
    "    fc7_drop = tf.nn.dropout(fc7, keep_prob, name=\"fc7_drop\")\n",
    "    \n",
    "    fc8 = fc_op(fc7_drop, name=\"fc8\", n_out=1000, p=p)\n",
    "    softmax = tf.nn.softmax(fc8)\n",
    "    predictions = tf.argmax(softmax, 1)\n",
    "    return predictions, softmax, fc8, p"
   ]
  },
  {
   "cell_type": "code",
   "execution_count": 17,
   "metadata": {},
   "outputs": [],
   "source": [
    "def time_tensorflow_run(session, target, feed, info_string):\n",
    "    num_steps_burn_in = 10\n",
    "    total_duration = 0.0\n",
    "    total_duration_squared = 0.0\n",
    "    for i in range(num_steps_burn_in+num_batches):\n",
    "        start_time = time.time()\n",
    "        _ = session.run(target, feed_dict=feed)\n",
    "        duration = time.time() - start_time\n",
    "        if i >= num_steps_burn_in:\n",
    "            if not i % 10:\n",
    "                print('%s: step %d, duration = %.3f' %(datetime.now(), i - num_steps_burn_in, duration) )\n",
    "            total_duration += duration\n",
    "            total_duration_squared += duration**2\n",
    "    mn = total_duration / num_batches\n",
    "    vr = total_duration_squared / num_batches - mn**2\n",
    "    sd = math.sqrt(vr)\n",
    "    print(\"%s: %s across %d steps, %.3f +/- %.3f sec / batch\" %\n",
    "         (datetime.now(), info_string, num_batches, mn, sd))\n",
    "    \n",
    "def run_benchmark():\n",
    "    with tf.Graph().as_default():\n",
    "        image_size = 224\n",
    "        images = tf.Variable(tf.random_normal([batch_size, image_size, image_size, 3], \n",
    "                                              dtype=tf.float32, stddev = 0.1))\n",
    "        keep_prob = tf.placeholder(tf.float32)\n",
    "        predicsions, softmax, fc8, p = inference_op(images, keep_prob)\n",
    "        init = tf.global_variables_initializer()\n",
    "        sess = tf.Session()\n",
    "        sess.run(init)\n",
    "        time_tensorflow_run(sess, predicsions, {keep_prob:0.5}, \"Forward\")\n",
    "        objective = tf.nn.l2_loss(fc8)\n",
    "        grad = tf.gradients(objective, p)\n",
    "        time_tensorflow_run(sess, grad, {keep_prob:0.5}, \"Forward-backward\")"
   ]
  },
  {
   "cell_type": "code",
   "execution_count": 22,
   "metadata": {},
   "outputs": [
    {
     "name": "stdout",
     "output_type": "stream",
     "text": [
      "2018-07-10 16:43:04.202996: step 0, duration = 0.192\n",
      "2018-07-10 16:43:06.124874: step 10, duration = 0.200\n",
      "2018-07-10 16:43:08.034373: step 20, duration = 0.188\n",
      "2018-07-10 16:43:09.956848: step 30, duration = 0.196\n",
      "2018-07-10 16:43:11.870086: step 40, duration = 0.187\n",
      "2018-07-10 16:43:13.793534: step 50, duration = 0.192\n",
      "2018-07-10 16:43:15.720060: step 60, duration = 0.188\n",
      "2018-07-10 16:43:17.646918: step 70, duration = 0.190\n",
      "2018-07-10 16:43:19.572682: step 80, duration = 0.187\n",
      "2018-07-10 16:43:21.504625: step 90, duration = 0.193\n",
      "2018-07-10 16:43:23.244039: Forward across 100 steps, 0.192 +/- 0.003 sec / batch\n",
      "2018-07-10 16:43:32.354256: step 0, duration = 0.643\n",
      "2018-07-10 16:43:38.776578: step 10, duration = 0.644\n",
      "2018-07-10 16:43:45.194095: step 20, duration = 0.645\n",
      "2018-07-10 16:43:51.682775: step 30, duration = 0.689\n",
      "2018-07-10 16:43:58.155875: step 40, duration = 0.652\n",
      "2018-07-10 16:44:04.635516: step 50, duration = 0.644\n",
      "2018-07-10 16:44:11.137131: step 60, duration = 0.646\n",
      "2018-07-10 16:44:17.622047: step 70, duration = 0.652\n",
      "2018-07-10 16:44:24.117742: step 80, duration = 0.655\n",
      "2018-07-10 16:44:30.609283: step 90, duration = 0.655\n",
      "2018-07-10 16:44:36.480683: Forward-backward across 100 steps, 0.648 +/- 0.007 sec / batch\n"
     ]
    }
   ],
   "source": [
    "batch_size = 20\n",
    "num_batches = 100\n",
    "run_benchmark()"
   ]
  },
  {
   "cell_type": "code",
   "execution_count": null,
   "metadata": {},
   "outputs": [],
   "source": []
  }
 ],
 "metadata": {
  "kernelspec": {
   "display_name": "Python 3",
   "language": "python",
   "name": "python3"
  },
  "language_info": {
   "codemirror_mode": {
    "name": "ipython",
    "version": 3
   },
   "file_extension": ".py",
   "mimetype": "text/x-python",
   "name": "python",
   "nbconvert_exporter": "python",
   "pygments_lexer": "ipython3",
   "version": "3.6.4"
  }
 },
 "nbformat": 4,
 "nbformat_minor": 2
}
